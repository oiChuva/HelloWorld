{
  "nbformat": 4,
  "nbformat_minor": 0,
  "metadata": {
    "colab": {
      "provenance": [],
      "authorship_tag": "ABX9TyPEeJELzUw/D7KW/ygIPzo9",
      "include_colab_link": true
    },
    "kernelspec": {
      "name": "python3",
      "display_name": "Python 3"
    },
    "language_info": {
      "name": "python"
    }
  },
  "cells": [
    {
      "cell_type": "markdown",
      "metadata": {
        "id": "view-in-github",
        "colab_type": "text"
      },
      "source": [
        "<a href=\"https://colab.research.google.com/github/oiChuva/HelloWorld/blob/main/Atividade2.ipynb\" target=\"_parent\"><img src=\"https://colab.research.google.com/assets/colab-badge.svg\" alt=\"Open In Colab\"/></a>"
      ]
    },
    {
      "cell_type": "markdown",
      "source": [
        "Exercício 1: Soma dos vetores."
      ],
      "metadata": {
        "id": "Gk9Am2P65Dgd"
      }
    },
    {
      "cell_type": "code",
      "execution_count": 5,
      "metadata": {
        "colab": {
          "base_uri": "https://localhost:8080/"
        },
        "id": "nY0n_x0d3Is2",
        "outputId": "c5304f4e-3983-47bc-cd1c-8528111dd9b7"
      },
      "outputs": [
        {
          "output_type": "stream",
          "name": "stdout",
          "text": [
            "Soma: [5 7 9]\n",
            "Subtração: [-3 -3 -3]\n",
            "Multiplicação: [ 4 10 18]\n"
          ]
        }
      ],
      "source": [
        "import numpy as np\n",
        "\n",
        "vetor1 = np.array([1, 2, 3])\n",
        "vetor2 = np.array([4, 5, 6])\n",
        "\n",
        "soma = vetor1 + vetor2\n",
        "subtracao = vetor1 - vetor2\n",
        "multiplicacao = vetor1 * vetor2\n",
        "print(\"Soma:\", soma)\n",
        "print(\"Subtração:\", subtracao)\n",
        "print(\"Multiplicação:\", multiplicacao)"
      ]
    },
    {
      "cell_type": "markdown",
      "source": [
        "Exercício 2: Produto Escalar do Vetor."
      ],
      "metadata": {
        "id": "dDLnvpmU5JqC"
      }
    },
    {
      "cell_type": "code",
      "source": [
        "vetor3 = np.array([4, -2, -3])\n",
        "vetor4 = np.array([4, -5, 6])\n",
        "\n",
        "escalar = np.dot(vetor3, vetor4)\n",
        "print(\"Produto Escalar:\", escalar)"
      ],
      "metadata": {
        "colab": {
          "base_uri": "https://localhost:8080/"
        },
        "id": "s_M_Sk3P3nov",
        "outputId": "c3f543da-ff73-479d-c6b2-fc350e339392"
      },
      "execution_count": 20,
      "outputs": [
        {
          "output_type": "stream",
          "name": "stdout",
          "text": [
            "Produto Escalar: 8\n"
          ]
        }
      ]
    },
    {
      "cell_type": "markdown",
      "source": [
        "Exercício 3: Magnitude / Norma Do Vetor."
      ],
      "metadata": {
        "id": "incsU54I5LeR"
      }
    },
    {
      "cell_type": "code",
      "source": [
        "vetor5 = np.array([4, 5, 6])\n",
        "\n",
        "magnitude = np.linalg.norm(vetor5)\n",
        "print(\"Magnitude do Vetor:\", magnitude)"
      ],
      "metadata": {
        "colab": {
          "base_uri": "https://localhost:8080/"
        },
        "id": "JL5byO504HdQ",
        "outputId": "fa97a359-e549-47a1-e992-a9a7e8871685"
      },
      "execution_count": 15,
      "outputs": [
        {
          "output_type": "stream",
          "name": "stdout",
          "text": [
            "Magnitude do Vetor: 8.774964387392123\n"
          ]
        }
      ]
    },
    {
      "cell_type": "markdown",
      "source": [
        "Exercício 4: Normalização do vetor."
      ],
      "metadata": {
        "id": "auyX8Y7k5Nny"
      }
    },
    {
      "cell_type": "code",
      "source": [
        "vetor6 = np.array([4, 5, 6])\n",
        "magnitude = np.linalg.norm(vetor6)\n",
        "Normal = vetor5 / magnitude\n",
        "print(\"Vetor Normalizado:\", Normal)"
      ],
      "metadata": {
        "colab": {
          "base_uri": "https://localhost:8080/"
        },
        "id": "6cjtssEt4Zl9",
        "outputId": "ef0f0d11-00eb-4d46-f5b3-543a289c8605"
      },
      "execution_count": 18,
      "outputs": [
        {
          "output_type": "stream",
          "name": "stdout",
          "text": [
            "Vetor Normalizado: [0.45584231 0.56980288 0.68376346]\n"
          ]
        }
      ]
    },
    {
      "cell_type": "markdown",
      "source": [
        "Exercício 5: Soma dos elementos do vetor."
      ],
      "metadata": {
        "id": "N9CKCKN55SgR"
      }
    },
    {
      "cell_type": "code",
      "source": [
        "vetor7 = np.array([10, 20, 30, 40, 50, 60])\n",
        "\n",
        "soma_elementos = np.sum(vetor7)\n",
        "print(\"Soma dos Elementos:\", soma_elementos)"
      ],
      "metadata": {
        "colab": {
          "base_uri": "https://localhost:8080/"
        },
        "id": "7OFwM8ct4mCs",
        "outputId": "7bff6086-ae65-4748-b677-7559d3626475"
      },
      "execution_count": 19,
      "outputs": [
        {
          "output_type": "stream",
          "name": "stdout",
          "text": [
            "Soma dos Elementos: 210\n"
          ]
        }
      ]
    }
  ]
}